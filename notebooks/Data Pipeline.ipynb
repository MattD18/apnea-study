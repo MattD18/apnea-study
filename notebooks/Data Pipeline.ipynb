{
 "cells": [
  {
   "cell_type": "code",
   "execution_count": 1,
   "metadata": {},
   "outputs": [],
   "source": [
    "%load_ext autoreload"
   ]
  },
  {
   "cell_type": "code",
   "execution_count": 6,
   "metadata": {},
   "outputs": [],
   "source": [
    "import pyedflib\n",
    "import numpy as np\n",
    "import os\n",
    "import re\n",
    "import matplotlib.pyplot as plt\n",
    "import xml.etree.ElementTree as ET\n",
    "import tensorflow as tf\n",
    "from src.etl import EDFLoader, AnnotationLoader, RecordETL\n",
    "%autoreload"
   ]
  },
  {
   "cell_type": "code",
   "execution_count": 7,
   "metadata": {},
   "outputs": [],
   "source": [
    "data_dir = 'data/test_dir'\n",
    "edf_dir = 'raw_data/edfs'\n",
    "annotation_dir = 'raw_data/annotation-events-nsrr'\n",
    "s3_bucket = 'apnea-study'\n",
    "tf_record_dir = 'preprocessed_data/'\n",
    "edf_loader = EDFLoader(os.path.join(data_dir, edf_dir),s3_bucket)\n",
    "annotation_loader = AnnotationLoader(os.path.join(data_dir, annotation_dir),s3_bucket)\n",
    "etl = RecordETL(os.path.join(data_dir, tf_record_dir), s3_bucket)"
   ]
  },
  {
   "cell_type": "code",
   "execution_count": null,
   "metadata": {},
   "outputs": [],
   "source": [
    "# X = edf_loader.load_from_local()\n",
    "X = edf_loader.load_from_s3()"
   ]
  },
  {
   "cell_type": "code",
   "execution_count": null,
   "metadata": {},
   "outputs": [],
   "source": [
    "# y = annotation_loader.load_from_local()\n",
    "y = annotation_loader.load_from_s3()"
   ]
  },
  {
   "cell_type": "code",
   "execution_count": null,
   "metadata": {},
   "outputs": [],
   "source": [
    "etl.write_to_tf_records_to_local(X,y)"
   ]
  },
  {
   "cell_type": "code",
   "execution_count": 8,
   "metadata": {},
   "outputs": [],
   "source": [
    "dataset = etl.read_from_tf_records_from_local()"
   ]
  },
  {
   "cell_type": "markdown",
   "metadata": {},
   "source": [
    "TO DO: figure out how to run this at scale on s3 or NW machine\n",
    "\n",
    "TO DO: preprocessing within tf dataset - save back to s3\n",
    "\n",
    "TO DO: preprocessing class interface with s3 bucket\n",
    "\n",
    "https://docs.w3cub.com/tensorflow~guide/deploy/s3/\n",
    "\n"
   ]
  }
 ],
 "metadata": {
  "kernelspec": {
   "display_name": "Python 3",
   "language": "python",
   "name": "python3"
  },
  "language_info": {
   "codemirror_mode": {
    "name": "ipython",
    "version": 3
   },
   "file_extension": ".py",
   "mimetype": "text/x-python",
   "name": "python",
   "nbconvert_exporter": "python",
   "pygments_lexer": "ipython3",
   "version": "3.6.9"
  }
 },
 "nbformat": 4,
 "nbformat_minor": 2
}
