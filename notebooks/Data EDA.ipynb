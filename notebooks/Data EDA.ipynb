{
 "cells": [
  {
   "cell_type": "code",
   "execution_count": 1,
   "metadata": {},
   "outputs": [],
   "source": [
    "import os\n",
    "import datetime\n",
    "\n",
    "import numpy as np\n",
    "import matplotlib.pyplot as plt\n",
    "import tensorflow as tf\n",
    "\n",
    "from src.etl import RecordETL\n",
    "from src.preprocess import MLPDataPipeline, Conv1DDataPipeline\n",
    "from src.models import BaseMLP,BaseConv1D\n",
    "from src.train import Experiment"
   ]
  },
  {
   "cell_type": "code",
   "execution_count": 2,
   "metadata": {},
   "outputs": [],
   "source": [
    "DATA_DIR = 'data/processed_data'\n"
   ]
  },
  {
   "cell_type": "code",
   "execution_count": 3,
   "metadata": {},
   "outputs": [],
   "source": [
    "etl =  RecordETL(DATA_DIR)\n",
    "raw_dataset = etl.read_from_tf_records_from_local().take(8)\n",
    "test_raw_dataset = etl.read_from_tf_records_from_local().take(10).skip(8)"
   ]
  },
  {
   "cell_type": "code",
   "execution_count": 4,
   "metadata": {},
   "outputs": [],
   "source": [
    "pipeline = Conv1DDataPipeline(num_seconds=10)\n",
    "model = BaseConv1D()\n",
    "optimizer = tf.keras.optimizers.Adam()\n",
    "#need to validate on different subjects\n",
    "experiment_one = Experiment(data=raw_dataset,\n",
    "                            pipeline=pipeline,\n",
    "                            model=model,\n",
    "                            optimizer=optimizer,\n",
    "                            epochs=30)\n",
    "\n",
    "\n"
   ]
  },
  {
   "cell_type": "code",
   "execution_count": 5,
   "metadata": {},
   "outputs": [
    {
     "name": "stdout",
     "output_type": "stream",
     "text": [
      "WARNING:tensorflow:Layer base_conv1d is casting an input tensor from dtype float64 to the layer's dtype of float32, which is new behavior in TensorFlow 2.  The layer has dtype float32 because it's dtype defaults to floatx.\n",
      "\n",
      "If you intended to run this layer in float32, you can safely ignore this warning. If in doubt, this warning is likely only an issue if you are porting a TensorFlow 1.X model to TensorFlow 2.\n",
      "\n",
      "To change all layers to have dtype float64 by default, call `tf.keras.backend.set_floatx('float64')`. To change just this layer, pass dtype='float64' to the layer constructor. If you are the author of this layer, you can disable autocasting by passing autocast=False to the base Layer constructor.\n",
      "\n",
      "Epoch 1/30\n",
      "WARNING:tensorflow:Gradients do not exist for variables ['base_conv1d/conv1d/kernel:0', 'base_conv1d/conv1d/bias:0'] when minimizing the loss.\n",
      "WARNING:tensorflow:Gradients do not exist for variables ['base_conv1d/conv1d/kernel:0', 'base_conv1d/conv1d/bias:0'] when minimizing the loss.\n",
      "359/359 [==============================] - 7s 19ms/step - loss: 0.7004 - Accuracy: 0.5314 - Precision: 0.5255 - Recall: 0.5444 - val_loss: 0.6848 - val_Accuracy: 0.5432 - val_Precision: 0.5902 - val_Recall: 0.4987\n",
      "Epoch 2/30\n",
      "359/359 [==============================] - 5s 13ms/step - loss: 0.6863 - Accuracy: 0.5631 - Precision: 0.5579 - Recall: 0.6427 - val_loss: 0.6764 - val_Accuracy: 0.5557 - val_Precision: 0.5412 - val_Recall: 0.7645\n",
      "Epoch 3/30\n",
      "359/359 [==============================] - 5s 13ms/step - loss: 0.6912 - Accuracy: 0.5645 - Precision: 0.5637 - Recall: 0.5622 - val_loss: 0.6845 - val_Accuracy: 0.5752 - val_Precision: 0.6098 - val_Recall: 0.3571\n",
      "Epoch 4/30\n",
      "359/359 [==============================] - 4s 12ms/step - loss: 0.6875 - Accuracy: 0.5659 - Precision: 0.5704 - Recall: 0.5290 - val_loss: 0.6791 - val_Accuracy: 0.5850 - val_Precision: 0.6250 - val_Recall: 0.4190\n",
      "Epoch 5/30\n",
      "359/359 [==============================] - 4s 12ms/step - loss: 0.6784 - Accuracy: 0.6052 - Precision: 0.6063 - Recall: 0.5812 - val_loss: 0.6798 - val_Accuracy: 0.6031 - val_Precision: 0.5928 - val_Recall: 0.6443\n",
      "Epoch 6/30\n",
      "359/359 [==============================] - 4s 12ms/step - loss: 0.6669 - Accuracy: 0.6066 - Precision: 0.6005 - Recall: 0.6710 - val_loss: 0.6624 - val_Accuracy: 0.6267 - val_Precision: 0.5927 - val_Recall: 0.8167\n",
      "Epoch 7/30\n",
      "359/359 [==============================] - 5s 13ms/step - loss: 0.6686 - Accuracy: 0.6310 - Precision: 0.6326 - Recall: 0.6000 - val_loss: 0.6626 - val_Accuracy: 0.6212 - val_Precision: 0.6943 - val_Recall: 0.4907\n",
      "Epoch 8/30\n",
      "359/359 [==============================] - 4s 12ms/step - loss: 0.6637 - Accuracy: 0.6422 - Precision: 0.6448 - Recall: 0.6398 - val_loss: 0.6425 - val_Accuracy: 0.6226 - val_Precision: 0.5689 - val_Recall: 0.8382\n",
      "Epoch 9/30\n",
      "359/359 [==============================] - 4s 12ms/step - loss: 0.6542 - Accuracy: 0.6254 - Precision: 0.6195 - Recall: 0.6637 - val_loss: 0.6437 - val_Accuracy: 0.6630 - val_Precision: 0.6875 - val_Recall: 0.6471\n",
      "Epoch 10/30\n",
      "359/359 [==============================] - 4s 12ms/step - loss: 0.6531 - Accuracy: 0.6484 - Precision: 0.6532 - Recall: 0.6410 - val_loss: 0.6458 - val_Accuracy: 0.6337 - val_Precision: 0.6124 - val_Recall: 0.7984\n",
      "Epoch 11/30\n",
      "359/359 [==============================] - 5s 13ms/step - loss: 0.6354 - Accuracy: 0.6659 - Precision: 0.6589 - Recall: 0.6742 - val_loss: 0.6146 - val_Accuracy: 0.7159 - val_Precision: 0.6995 - val_Recall: 0.7542\n",
      "Epoch 12/30\n",
      "359/359 [==============================] - 5s 13ms/step - loss: 0.6323 - Accuracy: 0.6941 - Precision: 0.7038 - Recall: 0.6745 - val_loss: 0.6155 - val_Accuracy: 0.6852 - val_Precision: 0.7238 - val_Recall: 0.5847\n",
      "Epoch 13/30\n",
      "359/359 [==============================] - 5s 13ms/step - loss: 0.6260 - Accuracy: 0.6847 - Precision: 0.6899 - Recall: 0.6702 - val_loss: 0.6818 - val_Accuracy: 0.6407 - val_Precision: 0.8304 - val_Recall: 0.3827\n",
      "Epoch 14/30\n",
      "359/359 [==============================] - 4s 12ms/step - loss: 0.6125 - Accuracy: 0.6805 - Precision: 0.6723 - Recall: 0.7146 - val_loss: 0.6135 - val_Accuracy: 0.7145 - val_Precision: 0.7955 - val_Recall: 0.5879\n",
      "Epoch 15/30\n",
      "359/359 [==============================] - 5s 13ms/step - loss: 0.6357 - Accuracy: 0.7132 - Precision: 0.7634 - Recall: 0.6157 - val_loss: 0.5930 - val_Accuracy: 0.7033 - val_Precision: 0.6921 - val_Recall: 0.7175\n",
      "Epoch 16/30\n",
      "359/359 [==============================] - 5s 13ms/step - loss: 0.5932 - Accuracy: 0.7185 - Precision: 0.7250 - Recall: 0.6944 - val_loss: 0.5565 - val_Accuracy: 0.7744 - val_Precision: 0.7948 - val_Recall: 0.7514\n",
      "Epoch 17/30\n",
      "359/359 [==============================] - 5s 13ms/step - loss: 0.6064 - Accuracy: 0.7272 - Precision: 0.7476 - Recall: 0.6911 - val_loss: 0.5848 - val_Accuracy: 0.6978 - val_Precision: 0.7003 - val_Recall: 0.6944\n",
      "Epoch 18/30\n",
      "359/359 [==============================] - 4s 12ms/step - loss: 0.5946 - Accuracy: 0.7376 - Precision: 0.7523 - Recall: 0.6998 - val_loss: 0.5606 - val_Accuracy: 0.7312 - val_Precision: 0.7515 - val_Recall: 0.7041\n",
      "Epoch 19/30\n",
      "359/359 [==============================] - 5s 13ms/step - loss: 0.5579 - Accuracy: 0.7575 - Precision: 0.7826 - Recall: 0.7223 - val_loss: 0.5461 - val_Accuracy: 0.7577 - val_Precision: 0.7275 - val_Recall: 0.8063\n",
      "Epoch 20/30\n",
      "359/359 [==============================] - 5s 14ms/step - loss: 0.5455 - Accuracy: 0.7700 - Precision: 0.8000 - Recall: 0.7273 - val_loss: 0.5365 - val_Accuracy: 0.7827 - val_Precision: 0.8741 - val_Recall: 0.6676\n",
      "Epoch 21/30\n",
      "359/359 [==============================] - 5s 13ms/step - loss: 0.5513 - Accuracy: 0.7728 - Precision: 0.8558 - Recall: 0.6641 - val_loss: 0.5413 - val_Accuracy: 0.8022 - val_Precision: 0.8538 - val_Recall: 0.7239\n",
      "Epoch 22/30\n",
      "359/359 [==============================] - 4s 12ms/step - loss: 0.5124 - Accuracy: 0.8094 - Precision: 0.8570 - Recall: 0.7414 - val_loss: 0.5085 - val_Accuracy: 0.8134 - val_Precision: 0.8498 - val_Recall: 0.7711\n",
      "Epoch 23/30\n",
      "359/359 [==============================] - 4s 12ms/step - loss: 0.5099 - Accuracy: 0.8167 - Precision: 0.8876 - Recall: 0.7277 - val_loss: 0.6341 - val_Accuracy: 0.7827 - val_Precision: 0.7867 - val_Recall: 0.7824\n",
      "Epoch 24/30\n",
      "359/359 [==============================] - 5s 13ms/step - loss: 0.4881 - Accuracy: 0.8247 - Precision: 0.8830 - Recall: 0.7481 - val_loss: 0.4564 - val_Accuracy: 0.8510 - val_Precision: 0.9628 - val_Recall: 0.7275\n",
      "Epoch 25/30\n",
      "359/359 [==============================] - 5s 13ms/step - loss: 0.5194 - Accuracy: 0.8251 - Precision: 0.9068 - Recall: 0.7273 - val_loss: 0.4684 - val_Accuracy: 0.8524 - val_Precision: 0.9048 - val_Recall: 0.7895\n",
      "Epoch 26/30\n",
      "359/359 [==============================] - 5s 14ms/step - loss: 0.4569 - Accuracy: 0.8488 - Precision: 0.9154 - Recall: 0.7665 - val_loss: 0.4451 - val_Accuracy: 0.8384 - val_Precision: 0.9695 - val_Recall: 0.7017\n",
      "Epoch 27/30\n",
      "359/359 [==============================] - 4s 12ms/step - loss: 0.4442 - Accuracy: 0.8509 - Precision: 0.9314 - Recall: 0.7575 - val_loss: 0.4816 - val_Accuracy: 0.8482 - val_Precision: 0.8952 - val_Recall: 0.7877\n",
      "Epoch 28/30\n",
      "359/359 [==============================] - 5s 13ms/step - loss: 0.4758 - Accuracy: 0.8314 - Precision: 0.9163 - Recall: 0.7252 - val_loss: 0.6121 - val_Accuracy: 0.7437 - val_Precision: 0.9807 - val_Recall: 0.5300\n",
      "Epoch 29/30\n",
      "359/359 [==============================] - 4s 12ms/step - loss: 0.4855 - Accuracy: 0.8376 - Precision: 0.9150 - Recall: 0.7462 - val_loss: 0.5075 - val_Accuracy: 0.7869 - val_Precision: 0.9688 - val_Recall: 0.5978\n",
      "Epoch 30/30\n",
      "359/359 [==============================] - 4s 12ms/step - loss: 0.4826 - Accuracy: 0.8216 - Precision: 0.8929 - Recall: 0.7292 - val_loss: 0.6473 - val_Accuracy: 0.7437 - val_Precision: 0.9838 - val_Recall: 0.5014\n"
     ]
    }
   ],
   "source": [
    "experiment_one.run()"
   ]
  },
  {
   "cell_type": "code",
   "execution_count": 6,
   "metadata": {
    "scrolled": true
   },
   "outputs": [],
   "source": [
    "dataset = pipeline.fit_transform(raw_dataset)\n",
    "test_dataset = pipeline.fit_transform(test_raw_dataset)"
   ]
  },
  {
   "cell_type": "code",
   "execution_count": 7,
   "metadata": {},
   "outputs": [
    {
     "data": {
      "text/plain": [
       "(3588, 508)"
      ]
     },
     "execution_count": 7,
     "metadata": {},
     "output_type": "execute_result"
    }
   ],
   "source": [
    "pipeline.get_dataset_length(dataset), pipeline.get_dataset_length(test_dataset)"
   ]
  },
  {
   "cell_type": "code",
   "execution_count": 8,
   "metadata": {},
   "outputs": [
    {
     "data": {
      "text/plain": [
       "0.6515748031496063"
      ]
     },
     "execution_count": 8,
     "metadata": {},
     "output_type": "execute_result"
    }
   ],
   "source": [
    "X = []\n",
    "y_true = []\n",
    "for record in test_dataset:\n",
    "    X.append(record[0])\n",
    "    y_true.append(record[1])\n",
    "X = tf.stack(X)\n",
    "y_true = tf.stack(y_true).numpy().flatten()\n",
    "y_pred = np.round(experiment_one.model.predict(X).flatten())\n",
    "(y_pred == y_true).mean()"
   ]
  },
  {
   "cell_type": "code",
   "execution_count": 9,
   "metadata": {},
   "outputs": [
    {
     "data": {
      "text/plain": [
       "0.7533444816053512"
      ]
     },
     "execution_count": 9,
     "metadata": {},
     "output_type": "execute_result"
    }
   ],
   "source": [
    "X = []\n",
    "y_true = []\n",
    "for record in dataset:\n",
    "    X.append(record[0])\n",
    "    y_true.append(record[1])\n",
    "X = tf.stack(X)\n",
    "y_true = tf.stack(y_true).numpy().flatten()\n",
    "y_pred = np.round(experiment_one.model.predict(X).flatten())\n",
    "(y_pred == y_true).mean()"
   ]
  },
  {
   "cell_type": "code",
   "execution_count": null,
   "metadata": {},
   "outputs": [],
   "source": []
  }
 ],
 "metadata": {
  "kernelspec": {
   "display_name": "Python 3",
   "language": "python",
   "name": "python3"
  },
  "language_info": {
   "codemirror_mode": {
    "name": "ipython",
    "version": 3
   },
   "file_extension": ".py",
   "mimetype": "text/x-python",
   "name": "python",
   "nbconvert_exporter": "python",
   "pygments_lexer": "ipython3",
   "version": "3.6.9"
  }
 },
 "nbformat": 4,
 "nbformat_minor": 2
}
