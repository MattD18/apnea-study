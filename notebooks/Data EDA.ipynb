{
 "cells": [
  {
   "cell_type": "code",
   "execution_count": 1,
   "metadata": {},
   "outputs": [],
   "source": [
    "import os\n",
    "import datetime\n",
    "\n",
    "import numpy as np\n",
    "import matplotlib.pyplot as plt\n",
    "import tensorflow as tf\n",
    "\n",
    "\n",
    "import sys\n",
    "sys.path.append('..')\n",
    "\n",
    "from src.etl import RecordETL\n",
    "from src.preprocess import MLPDataPipeline, Conv1DDataPipeline\n",
    "from src.models import BaseMLP,BaseConv1D\n",
    "from src.train import Experiment\n",
    "from src.utils import get_dataset_length"
   ]
  },
  {
   "cell_type": "code",
   "execution_count": 2,
   "metadata": {},
   "outputs": [],
   "source": [
    "DATA_DIR = '../data/processed_data'\n",
    "SAVE_DIR = '../model_weights/dev_test'"
   ]
  },
  {
   "cell_type": "code",
   "execution_count": 3,
   "metadata": {},
   "outputs": [],
   "source": [
    "etl =  RecordETL(DATA_DIR)\n",
    "raw_dataset = etl.read_from_tf_records_from_local().take(8)\n",
    "test_raw_dataset = etl.read_from_tf_records_from_local().take(10).skip(8)"
   ]
  },
  {
   "cell_type": "code",
   "execution_count": 9,
   "metadata": {},
   "outputs": [],
   "source": [
    "pipeline = Conv1DDataPipeline(num_seconds=10)\n",
    "model = BaseConv1D()\n",
    "optimizer = tf.keras.optimizers.Adam()\n",
    "#need to validate on different subjects\n",
    "experiment_one = Experiment(data=raw_dataset,\n",
    "                            pipeline=pipeline,\n",
    "                            model=model,\n",
    "                            optimizer=optimizer,\n",
    "                            training_params={'num_epochs':10,'batch_size':8,'validation_split':.2})\n",
    "\n",
    "\n"
   ]
  },
  {
   "cell_type": "code",
   "execution_count": 10,
   "metadata": {},
   "outputs": [
    {
     "name": "stdout",
     "output_type": "stream",
     "text": [
      "WARNING:tensorflow:Layer base_conv1d_3 is casting an input tensor from dtype float64 to the layer's dtype of float32, which is new behavior in TensorFlow 2.  The layer has dtype float32 because it's dtype defaults to floatx.\n",
      "\n",
      "If you intended to run this layer in float32, you can safely ignore this warning. If in doubt, this warning is likely only an issue if you are porting a TensorFlow 1.X model to TensorFlow 2.\n",
      "\n",
      "To change all layers to have dtype float64 by default, call `tf.keras.backend.set_floatx('float64')`. To change just this layer, pass dtype='float64' to the layer constructor. If you are the author of this layer, you can disable autocasting by passing autocast=False to the base Layer constructor.\n",
      "\n",
      "Epoch 1/10\n",
      "WARNING:tensorflow:Gradients do not exist for variables ['base_conv1d_3/conv1d_6/kernel:0', 'base_conv1d_3/conv1d_6/bias:0'] when minimizing the loss.\n",
      "WARNING:tensorflow:Gradients do not exist for variables ['base_conv1d_3/conv1d_6/kernel:0', 'base_conv1d_3/conv1d_6/bias:0'] when minimizing the loss.\n",
      "359/359 [==============================] - 32s 90ms/step - loss: 0.6983 - Accuracy: 0.5139 - Precision: 0.5131 - Recall: 0.5834 - val_loss: 0.6917 - val_Accuracy: 0.5209 - val_Precision: 0.5043 - val_Recall: 0.50720.6983 - Accu - 15s 78ms/step - loss: 0.7017 - Accuracy: 0.5092 - Precis - 17s  - 17s 52ms/step - loss: 0.6984\n",
      "Epoch 2/10\n",
      "359/359 [==============================] - 26s 72ms/step - loss: 0.6905 - Accuracy: 0.5397 - Precision: 0.5349 - Recall: 0.6333 - val_loss: 0.6928 - val_Accuracy: 0.5710 - val_Precision: 0.5962 - val_Recall: 0.5741\n",
      "Epoch 3/10\n",
      "359/359 [==============================] - 27s 76ms/step - loss: 0.6782 - Accuracy: 0.5815 - Precision: 0.5763 - Recall: 0.6443 - val_loss: 0.6824 - val_Accuracy: 0.5877 - val_Precision: 0.8679 - val_Recall: 0.1373\n",
      "Epoch 4/10\n",
      "359/359 [==============================] - 25s 69ms/step - loss: 0.6774 - Accuracy: 0.6338 - Precision: 0.6909 - Recall: 0.4492 - val_loss: 0.6713 - val_Accuracy: 0.6448 - val_Precision: 0.7790 - val_Recall: 0.3961\n",
      "Epoch 5/10\n",
      "359/359 [==============================] - 26s 71ms/step - loss: 0.6804 - Accuracy: 0.6178 - Precision: 0.6584 - Recall: 0.4951 - val_loss: 0.6679 - val_Accuracy: 0.6309 - val_Precision: 0.6691 - val_Recall: 0.5181\n",
      "Epoch 6/10\n",
      "359/359 [==============================] - 23s 65ms/step - loss: 0.6660 - Accuracy: 0.6467 - Precision: 0.6858 - Recall: 0.5240 - val_loss: 0.6706 - val_Accuracy: 0.6198 - val_Precision: 0.5929 - val_Recall: 0.6734\n",
      "Epoch 7/10\n",
      "359/359 [==============================] - 24s 67ms/step - loss: 0.6625 - Accuracy: 0.6317 - Precision: 0.6672 - Recall: 0.5326 - val_loss: 0.6473 - val_Accuracy: 0.6602 - val_Precision: 0.6934 - val_Recall: 0.5606\n",
      "Epoch 8/10\n",
      "359/359 [==============================] - 25s 71ms/step - loss: 0.6663 - Accuracy: 0.6491 - Precision: 0.6909 - Recall: 0.5380 - val_loss: 0.6528 - val_Accuracy: 0.6852 - val_Precision: 0.7549 - val_Recall: 0.5434\n",
      "Epoch 9/10\n",
      "359/359 [==============================] - 24s 66ms/step - loss: 0.6526 - Accuracy: 0.6279 - Precision: 0.6478 - Recall: 0.5818 - val_loss: 0.6441 - val_Accuracy: 0.7089 - val_Precision: 0.7039 - val_Recall: 0.7404\n",
      "Epoch 10/10\n",
      "359/359 [==============================] - 22s 61ms/step - loss: 0.6428 - Accuracy: 0.6714 - Precision: 0.6988 - Recall: 0.5954 - val_loss: 0.6745 - val_Accuracy: 0.5891 - val_Precision: 0.7978 - val_Recall: 0.2040\n"
     ]
    }
   ],
   "source": [
    "experiment_one.run()"
   ]
  },
  {
   "cell_type": "code",
   "execution_count": 11,
   "metadata": {},
   "outputs": [],
   "source": [
    "experiment_one.save(SAVE_DIR)"
   ]
  },
  {
   "cell_type": "code",
   "execution_count": 12,
   "metadata": {
    "scrolled": true
   },
   "outputs": [],
   "source": [
    "dataset = pipeline.fit_transform(raw_dataset)\n",
    "test_dataset = pipeline.fit_transform(test_raw_dataset)"
   ]
  },
  {
   "cell_type": "code",
   "execution_count": null,
   "metadata": {},
   "outputs": [],
   "source": [
    "get_dataset_length(dataset), get_dataset_length(test_dataset)"
   ]
  },
  {
   "cell_type": "code",
   "execution_count": null,
   "metadata": {},
   "outputs": [],
   "source": [
    "X = []\n",
    "y_true = []\n",
    "for record in test_dataset:\n",
    "    X.append(record[0])\n",
    "    y_true.append(record[1])\n",
    "X = tf.stack(X)\n",
    "y_true = tf.stack(y_true).numpy().flatten()\n",
    "y_pred = np.round(experiment_one.model.predict(X).flatten())\n",
    "(y_pred == y_true).mean()"
   ]
  },
  {
   "cell_type": "code",
   "execution_count": 13,
   "metadata": {},
   "outputs": [
    {
     "data": {
      "text/plain": [
       "0.600613154960981"
      ]
     },
     "execution_count": 13,
     "metadata": {},
     "output_type": "execute_result"
    }
   ],
   "source": [
    "X = []\n",
    "y_true = []\n",
    "for record in dataset:\n",
    "    X.append(record[0])\n",
    "    y_true.append(record[1])\n",
    "X = tf.stack(X)\n",
    "y_true = tf.stack(y_true).numpy().flatten()\n",
    "y_pred = np.round(experiment_one.model.predict(X).flatten())\n",
    "(y_pred == y_true).mean()"
   ]
  },
  {
   "cell_type": "code",
   "execution_count": 14,
   "metadata": {},
   "outputs": [
    {
     "data": {
      "text/plain": [
       "0.5209030100334449"
      ]
     },
     "execution_count": 14,
     "metadata": {},
     "output_type": "execute_result"
    }
   ],
   "source": [
    "model = BaseConv1D()\n",
    "X = []\n",
    "y_true = []\n",
    "for record in dataset:\n",
    "    X.append(record[0])\n",
    "    y_true.append(record[1])\n",
    "X = tf.stack(X)\n",
    "y_true = tf.stack(y_true).numpy().flatten()\n",
    "y_pred = np.round(model.predict(X).flatten())\n",
    "(y_pred == y_true).mean()"
   ]
  },
  {
   "cell_type": "code",
   "execution_count": 17,
   "metadata": {},
   "outputs": [
    {
     "name": "stdout",
     "output_type": "stream",
     "text": [
      "WARNING:tensorflow:Unresolved object in checkpoint: (root).optimizer\n",
      "WARNING:tensorflow:Unresolved object in checkpoint: (root)._training_endpoints\n",
      "WARNING:tensorflow:Unresolved object in checkpoint: (root).optimizer.iter\n",
      "WARNING:tensorflow:Unresolved object in checkpoint: (root).optimizer.beta_1\n",
      "WARNING:tensorflow:Unresolved object in checkpoint: (root).optimizer.beta_2\n",
      "WARNING:tensorflow:Unresolved object in checkpoint: (root).optimizer.decay\n",
      "WARNING:tensorflow:Unresolved object in checkpoint: (root).optimizer.learning_rate\n",
      "WARNING:tensorflow:Unresolved object in checkpoint: (root).optimizer's state 'm' for (root).conv_two.kernel\n",
      "WARNING:tensorflow:Unresolved object in checkpoint: (root).optimizer's state 'm' for (root).conv_two.bias\n",
      "WARNING:tensorflow:Unresolved object in checkpoint: (root).optimizer's state 'm' for (root).output_layer.kernel\n",
      "WARNING:tensorflow:Unresolved object in checkpoint: (root).optimizer's state 'm' for (root).output_layer.bias\n",
      "WARNING:tensorflow:Unresolved object in checkpoint: (root).optimizer's state 'v' for (root).conv_two.kernel\n",
      "WARNING:tensorflow:Unresolved object in checkpoint: (root).optimizer's state 'v' for (root).conv_two.bias\n",
      "WARNING:tensorflow:Unresolved object in checkpoint: (root).optimizer's state 'v' for (root).output_layer.kernel\n",
      "WARNING:tensorflow:Unresolved object in checkpoint: (root).optimizer's state 'v' for (root).output_layer.bias\n",
      "WARNING:tensorflow:A checkpoint was restored (e.g. tf.train.Checkpoint.restore or tf.keras.Model.load_weights) but not all checkpointed values were used. See above for specific issues. Use expect_partial() on the load status object, e.g. tf.train.Checkpoint.restore(...).expect_partial(), to silence these warnings, or use assert_consumed() to make the check explicit. See https://www.tensorflow.org/guide/checkpoint#loading_mechanics for details.\n"
     ]
    },
    {
     "data": {
      "text/plain": [
       "0.600613154960981"
      ]
     },
     "execution_count": 17,
     "metadata": {},
     "output_type": "execute_result"
    }
   ],
   "source": [
    "model = BaseConv1D()\n",
    "model.load_weights(os.path.join(SAVE_DIR,'2020032101391584754764'))\n",
    "X = []\n",
    "y_true = []\n",
    "for record in dataset:\n",
    "    X.append(record[0])\n",
    "    y_true.append(record[1])\n",
    "X = tf.stack(X)\n",
    "y_true = tf.stack(y_true).numpy().flatten()\n",
    "y_pred = np.round(model.predict(X).flatten())\n",
    "(y_pred == y_true).mean()"
   ]
  },
  {
   "cell_type": "code",
   "execution_count": null,
   "metadata": {},
   "outputs": [],
   "source": [
    "import yaml"
   ]
  },
  {
   "cell_type": "code",
   "execution_count": null,
   "metadata": {},
   "outputs": [],
   "source": [
    "with open('../configs/test_config.yaml','rb') as f:\n",
    "    a = yaml.load(f, Loader=yaml.BaseLoader)"
   ]
  },
  {
   "cell_type": "code",
   "execution_count": 30,
   "metadata": {},
   "outputs": [],
   "source": [
    "import sys\n",
    "sys.path.append('..')\n",
    "from src.utils import load_config_file\n",
    "%autoreload"
   ]
  },
  {
   "cell_type": "code",
   "execution_count": 31,
   "metadata": {},
   "outputs": [
    {
     "data": {
      "text/plain": [
       "{'data': {'train_dir': 'data/processed_data'},\n",
       " 'pipeline': {'name': 'Conv1DDataPipeline', 'params': {'num_seconds': 10}},\n",
       " 'model': {'name': 'BaseConv1D', 'params': {}},\n",
       " 'training': {'training_loop': {'params': {'num_epochs': 50,\n",
       "    'batch_size': 8,\n",
       "    'validation_split': '.2'}},\n",
       "  'optimizer': {'name': 'Adam', 'params': {'learning_rate': 0.0001}}},\n",
       " 'float_params': '-learning_rate -validaiton_split',\n",
       " 'int_params': '-batch_size -num_epochs -num_seconds'}"
      ]
     },
     "execution_count": 31,
     "metadata": {},
     "output_type": "execute_result"
    }
   ],
   "source": [
    "config = load_config_file('../configs/test_config.yaml')\n",
    "config"
   ]
  },
  {
   "cell_type": "code",
   "execution_count": 4,
   "metadata": {},
   "outputs": [
    {
     "data": {
      "text/plain": [
       "{'model': {'name': 'BaseConv1D', 'params': ''},\n",
       " 'training': {'training_params': {'learning_rate': '.0001',\n",
       "   'num_epochs': 50,\n",
       "   'batch_size': 8,\n",
       "   'validation_split': '.2'}}}"
      ]
     },
     "execution_count": 4,
     "metadata": {},
     "output_type": "execute_result"
    }
   ],
   "source": [
    "config"
   ]
  },
  {
   "cell_type": "code",
   "execution_count": null,
   "metadata": {},
   "outputs": [],
   "source": [
    "pass"
   ]
  },
  {
   "cell_type": "markdown",
   "metadata": {},
   "source": [
    "#TODO Next\n",
    "Remove notebooks/specify in README these are just for testing\n",
    "\n",
    "set up proper ETL\n",
    "-modify create_tf_records to pull just abc dataset\n",
    "-ensure edf is on proper channel\n",
    "-allocate abc to train and val\n",
    "\n",
    "\n",
    "design experiments"
   ]
  }
 ],
 "metadata": {
  "kernelspec": {
   "display_name": "Python 3",
   "language": "python",
   "name": "python3"
  },
  "language_info": {
   "codemirror_mode": {
    "name": "ipython",
    "version": 3
   },
   "file_extension": ".py",
   "mimetype": "text/x-python",
   "name": "python",
   "nbconvert_exporter": "python",
   "pygments_lexer": "ipython3",
   "version": "3.7.6"
  }
 },
 "nbformat": 4,
 "nbformat_minor": 2
}
